{
 "cells": [
  {
   "cell_type": "code",
   "execution_count": 97,
   "metadata": {},
   "outputs": [],
   "source": [
    "import pandas as pd\n",
    "import numpy as np\n",
    "training_set = pd.read_excel(\"Data_Train.xlsx\")"
   ]
  },
  {
   "cell_type": "code",
   "execution_count": 98,
   "metadata": {},
   "outputs": [],
   "source": [
    "from sklearn.model_selection import train_test_split"
   ]
  },
  {
   "cell_type": "code",
   "execution_count": 99,
   "metadata": {},
   "outputs": [
    {
     "name": "stdout",
     "output_type": "stream",
     "text": [
      "Columns: \n",
      " Index(['Airline', 'Date_of_Journey', 'Source', 'Destination', 'Route',\n",
      "       'Dep_Time', 'Arrival_Time', 'Duration', 'Total_Stops',\n",
      "       'Additional_Info', 'Price'],\n",
      "      dtype='object') \n",
      "\n",
      "Number of columns:  11 \n",
      "\n",
      "Number of rows:  10683 \n",
      "\n",
      "Training set data types: \n",
      " Airline            object\n",
      "Date_of_Journey    object\n",
      "Source             object\n",
      "Destination        object\n",
      "Route              object\n",
      "Dep_Time           object\n",
      "Arrival_Time       object\n",
      "Duration           object\n",
      "Total_Stops        object\n",
      "Additional_Info    object\n",
      "Price               int64\n",
      "dtype: object \n",
      "\n",
      "Do null values exist?:  True \n",
      "\n",
      "Number of null values: \n",
      " Airline            0\n",
      "Date_of_Journey    0\n",
      "Source             0\n",
      "Destination        0\n",
      "Route              1\n",
      "Dep_Time           0\n",
      "Arrival_Time       0\n",
      "Duration           0\n",
      "Total_Stops        1\n",
      "Additional_Info    0\n",
      "Price              0\n",
      "dtype: int64 \n",
      "\n"
     ]
    }
   ],
   "source": [
    "print(\"Columns: \\n\",training_set.columns,\"\\n\")\n",
    "print(\"Number of columns: \",len(training_set.columns),\"\\n\")\n",
    "print(\"Number of rows: \",len(training_set),\"\\n\")\n",
    "print(\"Training set data types: \\n\",training_set.dtypes,\"\\n\")\n",
    "print(\"Do null values exist?: \",training_set.isnull().values.any(),\"\\n\")\n",
    "print(\"Number of null values: \\n\",training_set.isnull().sum(),\"\\n\")"
   ]
  },
  {
   "cell_type": "code",
   "execution_count": 100,
   "metadata": {},
   "outputs": [
    {
     "name": "stdout",
     "output_type": "stream",
     "text": [
      "10682\n"
     ]
    }
   ],
   "source": [
    "training_set = training_set.dropna()\n",
    "print(len(training_set))"
   ]
  },
  {
   "cell_type": "code",
   "execution_count": 101,
   "metadata": {},
   "outputs": [
    {
     "name": "stdout",
     "output_type": "stream",
     "text": [
      "Index(['Airline', 'Source', 'Destination', 'Route', 'Dep_Time', 'Arrival_Time',\n",
      "       'Duration', 'Total_Stops', 'Additional_Info', 'Price', 'Journey_Day',\n",
      "       'Journey_Month'],\n",
      "      dtype='object')\n"
     ]
    }
   ],
   "source": [
    "training_set['Journey_Day'] = pd.to_datetime(training_set.Date_of_Journey, format = '%d/%m/%Y').dt.day\n",
    "training_set['Journey_Month'] = pd.to_datetime(training_set.Date_of_Journey, format = '%d/%m/%Y').dt.month\n",
    "\n",
    "training_set.drop(labels = 'Date_of_Journey', axis = 1, inplace = True)\n",
    "\n",
    "print(training_set.columns)"
   ]
  },
  {
   "cell_type": "code",
   "execution_count": 102,
   "metadata": {},
   "outputs": [
    {
     "name": "stdout",
     "output_type": "stream",
     "text": [
      "Index(['Airline', 'Source', 'Destination', 'Route', 'Dep_Time', 'Arrival_Time',\n",
      "       'Total_Stops', 'Additional_Info', 'Price', 'Journey_Day',\n",
      "       'Journey_Month', 'Duration_hours', 'Duration_minutes'],\n",
      "      dtype='object')\n"
     ]
    }
   ],
   "source": [
    "duration = list(training_set['Duration'])\n",
    "\n",
    "for i in range(len(duration)):\n",
    "    if (len(duration[i].split()) != 2):\n",
    "        if 'h' in duration[i]:\n",
    "            duration[i] = duration[i].strip() + ' 0m'\n",
    "        elif 'm' in duration[i]:\n",
    "            duration[i] = \"0h {}\".format(duration[i].strip())\n",
    "            \n",
    "dur_hours = []\n",
    "dur_minutes = []\n",
    "\n",
    "for i in range(len(duration)):\n",
    "    dur_hours.append(int(duration[i].split()[0][:-1]))\n",
    "    dur_minutes.append(int(duration[i].split()[1][:-1]))\n",
    "    \n",
    "training_set['Duration_hours'] = dur_hours\n",
    "training_set['Duration_minutes'] = dur_minutes\n",
    "training_set.drop(labels = 'Duration', axis = 1, inplace=True)\n",
    "\n",
    "print(training_set.columns)"
   ]
  },
  {
   "cell_type": "code",
   "execution_count": 103,
   "metadata": {},
   "outputs": [
    {
     "name": "stdout",
     "output_type": "stream",
     "text": [
      "Index(['Airline', 'Source', 'Destination', 'Route', 'Total_Stops',\n",
      "       'Additional_Info', 'Price', 'Journey_Day', 'Journey_Month',\n",
      "       'Duration_hours', 'Duration_minutes', 'Arrival_Hour', 'Arrival_Minutes',\n",
      "       'Departure_Hour', 'Departure_Minutes'],\n",
      "      dtype='object')\n"
     ]
    }
   ],
   "source": [
    "training_set['Arrival_Hour'] = pd.to_datetime(training_set.Arrival_Time).dt.hour\n",
    "training_set['Arrival_Minutes'] = pd.to_datetime(training_set.Arrival_Time).dt.minute\n",
    "training_set.drop(labels = 'Arrival_Time', axis = 1, inplace = True)\n",
    "\n",
    "training_set['Departure_Hour'] = pd.to_datetime(training_set.Dep_Time).dt.hour\n",
    "training_set['Departure_Minutes'] = pd.to_datetime(training_set.Dep_Time).dt.minute\n",
    "training_set.drop(labels = 'Dep_Time', axis = 1, inplace = True)\n",
    "\n",
    "print(training_set.columns)"
   ]
  },
  {
   "cell_type": "code",
   "execution_count": 129,
   "metadata": {},
   "outputs": [
    {
     "data": {
      "text/html": [
       "<div>\n",
       "<style scoped>\n",
       "    .dataframe tbody tr th:only-of-type {\n",
       "        vertical-align: middle;\n",
       "    }\n",
       "\n",
       "    .dataframe tbody tr th {\n",
       "        vertical-align: top;\n",
       "    }\n",
       "\n",
       "    .dataframe thead th {\n",
       "        text-align: right;\n",
       "    }\n",
       "</style>\n",
       "<table border=\"1\" class=\"dataframe\">\n",
       "  <thead>\n",
       "    <tr style=\"text-align: right;\">\n",
       "      <th></th>\n",
       "      <th>Airline</th>\n",
       "      <th>Source</th>\n",
       "      <th>Destination</th>\n",
       "      <th>Route</th>\n",
       "      <th>Total_Stops</th>\n",
       "      <th>Additional_Info</th>\n",
       "      <th>Price</th>\n",
       "      <th>Journey_Day</th>\n",
       "      <th>Journey_Month</th>\n",
       "      <th>Duration_hours</th>\n",
       "      <th>Duration_minutes</th>\n",
       "      <th>Arrival_Hour</th>\n",
       "      <th>Arrival_Minutes</th>\n",
       "      <th>Departure_Hour</th>\n",
       "      <th>Departure_Minutes</th>\n",
       "    </tr>\n",
       "  </thead>\n",
       "  <tbody>\n",
       "    <tr>\n",
       "      <td>10673</td>\n",
       "      <td>Jet Airways</td>\n",
       "      <td>Delhi</td>\n",
       "      <td>Cochin</td>\n",
       "      <td>DEL → AMD → BOM → COK</td>\n",
       "      <td>2 stops</td>\n",
       "      <td>No info</td>\n",
       "      <td>16704</td>\n",
       "      <td>27</td>\n",
       "      <td>5</td>\n",
       "      <td>15</td>\n",
       "      <td>0</td>\n",
       "      <td>4</td>\n",
       "      <td>25</td>\n",
       "      <td>13</td>\n",
       "      <td>25</td>\n",
       "    </tr>\n",
       "    <tr>\n",
       "      <td>10674</td>\n",
       "      <td>Jet Airways</td>\n",
       "      <td>Banglore</td>\n",
       "      <td>New Delhi</td>\n",
       "      <td>BLR → BOM → DEL</td>\n",
       "      <td>1 stop</td>\n",
       "      <td>In-flight meal not included</td>\n",
       "      <td>11087</td>\n",
       "      <td>12</td>\n",
       "      <td>3</td>\n",
       "      <td>24</td>\n",
       "      <td>45</td>\n",
       "      <td>21</td>\n",
       "      <td>20</td>\n",
       "      <td>20</td>\n",
       "      <td>35</td>\n",
       "    </tr>\n",
       "    <tr>\n",
       "      <td>10675</td>\n",
       "      <td>Air India</td>\n",
       "      <td>Mumbai</td>\n",
       "      <td>Hyderabad</td>\n",
       "      <td>BOM → HYD</td>\n",
       "      <td>non-stop</td>\n",
       "      <td>No info</td>\n",
       "      <td>3100</td>\n",
       "      <td>9</td>\n",
       "      <td>6</td>\n",
       "      <td>1</td>\n",
       "      <td>20</td>\n",
       "      <td>7</td>\n",
       "      <td>40</td>\n",
       "      <td>6</td>\n",
       "      <td>20</td>\n",
       "    </tr>\n",
       "    <tr>\n",
       "      <td>10676</td>\n",
       "      <td>Multiple carriers</td>\n",
       "      <td>Delhi</td>\n",
       "      <td>Cochin</td>\n",
       "      <td>DEL → BOM → COK</td>\n",
       "      <td>1 stop</td>\n",
       "      <td>No info</td>\n",
       "      <td>9794</td>\n",
       "      <td>1</td>\n",
       "      <td>5</td>\n",
       "      <td>8</td>\n",
       "      <td>40</td>\n",
       "      <td>19</td>\n",
       "      <td>0</td>\n",
       "      <td>10</td>\n",
       "      <td>20</td>\n",
       "    </tr>\n",
       "    <tr>\n",
       "      <td>10677</td>\n",
       "      <td>SpiceJet</td>\n",
       "      <td>Banglore</td>\n",
       "      <td>Delhi</td>\n",
       "      <td>BLR → DEL</td>\n",
       "      <td>non-stop</td>\n",
       "      <td>No check-in baggage included</td>\n",
       "      <td>3257</td>\n",
       "      <td>21</td>\n",
       "      <td>5</td>\n",
       "      <td>2</td>\n",
       "      <td>40</td>\n",
       "      <td>8</td>\n",
       "      <td>35</td>\n",
       "      <td>5</td>\n",
       "      <td>55</td>\n",
       "    </tr>\n",
       "    <tr>\n",
       "      <td>10678</td>\n",
       "      <td>Air Asia</td>\n",
       "      <td>Kolkata</td>\n",
       "      <td>Banglore</td>\n",
       "      <td>CCU → BLR</td>\n",
       "      <td>non-stop</td>\n",
       "      <td>No info</td>\n",
       "      <td>4107</td>\n",
       "      <td>9</td>\n",
       "      <td>4</td>\n",
       "      <td>2</td>\n",
       "      <td>30</td>\n",
       "      <td>22</td>\n",
       "      <td>25</td>\n",
       "      <td>19</td>\n",
       "      <td>55</td>\n",
       "    </tr>\n",
       "    <tr>\n",
       "      <td>10679</td>\n",
       "      <td>Air India</td>\n",
       "      <td>Kolkata</td>\n",
       "      <td>Banglore</td>\n",
       "      <td>CCU → BLR</td>\n",
       "      <td>non-stop</td>\n",
       "      <td>No info</td>\n",
       "      <td>4145</td>\n",
       "      <td>27</td>\n",
       "      <td>4</td>\n",
       "      <td>2</td>\n",
       "      <td>35</td>\n",
       "      <td>23</td>\n",
       "      <td>20</td>\n",
       "      <td>20</td>\n",
       "      <td>45</td>\n",
       "    </tr>\n",
       "    <tr>\n",
       "      <td>10680</td>\n",
       "      <td>Jet Airways</td>\n",
       "      <td>Banglore</td>\n",
       "      <td>Delhi</td>\n",
       "      <td>BLR → DEL</td>\n",
       "      <td>non-stop</td>\n",
       "      <td>No info</td>\n",
       "      <td>7229</td>\n",
       "      <td>27</td>\n",
       "      <td>4</td>\n",
       "      <td>3</td>\n",
       "      <td>0</td>\n",
       "      <td>11</td>\n",
       "      <td>20</td>\n",
       "      <td>8</td>\n",
       "      <td>20</td>\n",
       "    </tr>\n",
       "    <tr>\n",
       "      <td>10681</td>\n",
       "      <td>Vistara</td>\n",
       "      <td>Banglore</td>\n",
       "      <td>New Delhi</td>\n",
       "      <td>BLR → DEL</td>\n",
       "      <td>non-stop</td>\n",
       "      <td>No info</td>\n",
       "      <td>12648</td>\n",
       "      <td>1</td>\n",
       "      <td>3</td>\n",
       "      <td>2</td>\n",
       "      <td>40</td>\n",
       "      <td>14</td>\n",
       "      <td>10</td>\n",
       "      <td>11</td>\n",
       "      <td>30</td>\n",
       "    </tr>\n",
       "    <tr>\n",
       "      <td>10682</td>\n",
       "      <td>Air India</td>\n",
       "      <td>Delhi</td>\n",
       "      <td>Cochin</td>\n",
       "      <td>DEL → GOI → BOM → COK</td>\n",
       "      <td>2 stops</td>\n",
       "      <td>No info</td>\n",
       "      <td>11753</td>\n",
       "      <td>9</td>\n",
       "      <td>5</td>\n",
       "      <td>8</td>\n",
       "      <td>20</td>\n",
       "      <td>19</td>\n",
       "      <td>15</td>\n",
       "      <td>10</td>\n",
       "      <td>55</td>\n",
       "    </tr>\n",
       "  </tbody>\n",
       "</table>\n",
       "</div>"
      ],
      "text/plain": [
       "                 Airline    Source Destination                  Route  \\\n",
       "10673        Jet Airways     Delhi      Cochin  DEL → AMD → BOM → COK   \n",
       "10674        Jet Airways  Banglore   New Delhi        BLR → BOM → DEL   \n",
       "10675          Air India    Mumbai   Hyderabad              BOM → HYD   \n",
       "10676  Multiple carriers     Delhi      Cochin        DEL → BOM → COK   \n",
       "10677           SpiceJet  Banglore       Delhi              BLR → DEL   \n",
       "10678           Air Asia   Kolkata    Banglore              CCU → BLR   \n",
       "10679          Air India   Kolkata    Banglore              CCU → BLR   \n",
       "10680        Jet Airways  Banglore       Delhi              BLR → DEL   \n",
       "10681            Vistara  Banglore   New Delhi              BLR → DEL   \n",
       "10682          Air India     Delhi      Cochin  DEL → GOI → BOM → COK   \n",
       "\n",
       "      Total_Stops               Additional_Info  Price  Journey_Day  \\\n",
       "10673     2 stops                       No info  16704           27   \n",
       "10674      1 stop   In-flight meal not included  11087           12   \n",
       "10675    non-stop                       No info   3100            9   \n",
       "10676      1 stop                       No info   9794            1   \n",
       "10677    non-stop  No check-in baggage included   3257           21   \n",
       "10678    non-stop                       No info   4107            9   \n",
       "10679    non-stop                       No info   4145           27   \n",
       "10680    non-stop                       No info   7229           27   \n",
       "10681    non-stop                       No info  12648            1   \n",
       "10682     2 stops                       No info  11753            9   \n",
       "\n",
       "       Journey_Month  Duration_hours  Duration_minutes  Arrival_Hour  \\\n",
       "10673              5              15                 0             4   \n",
       "10674              3              24                45            21   \n",
       "10675              6               1                20             7   \n",
       "10676              5               8                40            19   \n",
       "10677              5               2                40             8   \n",
       "10678              4               2                30            22   \n",
       "10679              4               2                35            23   \n",
       "10680              4               3                 0            11   \n",
       "10681              3               2                40            14   \n",
       "10682              5               8                20            19   \n",
       "\n",
       "       Arrival_Minutes  Departure_Hour  Departure_Minutes  \n",
       "10673               25              13                 25  \n",
       "10674               20              20                 35  \n",
       "10675               40               6                 20  \n",
       "10676                0              10                 20  \n",
       "10677               35               5                 55  \n",
       "10678               25              19                 55  \n",
       "10679               20              20                 45  \n",
       "10680               20               8                 20  \n",
       "10681               10              11                 30  \n",
       "10682               15              10                 55  "
      ]
     },
     "execution_count": 129,
     "metadata": {},
     "output_type": "execute_result"
    }
   ],
   "source": [
    "training_set.tail(10)"
   ]
  },
  {
   "cell_type": "code",
   "execution_count": 105,
   "metadata": {},
   "outputs": [],
   "source": [
    "Y_train = training_set.iloc[:,6].values\n",
    "X_train = training_set.iloc[:, training_set.columns != 'Price'].values"
   ]
  },
  {
   "cell_type": "code",
   "execution_count": 106,
   "metadata": {},
   "outputs": [],
   "source": [
    "x_train, x_test, y_train, y_test = train_test_split(X_train, Y_train, test_size=0.1, random_state=123)"
   ]
  },
  {
   "cell_type": "code",
   "execution_count": 107,
   "metadata": {},
   "outputs": [
    {
     "data": {
      "text/plain": [
       "array([ 8996, 15400, 10844, ...,  9264,  7155,  4148])"
      ]
     },
     "execution_count": 107,
     "metadata": {},
     "output_type": "execute_result"
    }
   ],
   "source": [
    "Y_test = y_test\n",
    "Y_test"
   ]
  },
  {
   "cell_type": "code",
   "execution_count": 108,
   "metadata": {},
   "outputs": [],
   "source": [
    "from sklearn.preprocessing import LabelEncoder\n",
    "le1 = LabelEncoder()\n",
    "le2 = LabelEncoder()"
   ]
  },
  {
   "cell_type": "code",
   "execution_count": 109,
   "metadata": {},
   "outputs": [],
   "source": [
    "x_train[:,0] = le1.fit_transform(x_train[:,0])\n",
    "x_train[:,1] = le1.fit_transform(x_train[:,1])\n",
    "x_train[:,2] = le1.fit_transform(x_train[:,2])\n",
    "x_train[:,3] = le1.fit_transform(x_train[:,3])\n",
    "x_train[:,4] = le1.fit_transform(x_train[:,4])\n",
    "x_train[:,5] = le1.fit_transform(x_train[:,5])\n",
    "\n",
    "x_test[:,0] = le2.fit_transform(x_test[:,0])\n",
    "x_test[:,1] = le2.fit_transform(x_test[:,1])\n",
    "x_test[:,2] = le2.fit_transform(x_test[:,2])\n",
    "x_test[:,3] = le2.fit_transform(x_test[:,3])\n",
    "x_test[:,4] = le2.fit_transform(x_test[:,4])\n",
    "x_test[:,5] = le2.fit_transform(x_test[:,5])"
   ]
  },
  {
   "cell_type": "code",
   "execution_count": 110,
   "metadata": {},
   "outputs": [
    {
     "name": "stdout",
     "output_type": "stream",
     "text": [
      "   0  1  2    3  4  5   6  7   8   9  10  11  12  13\n",
      "0  1  3  0   76  1  8  24  3  41  20  23  15   5  55\n",
      "1  1  2  1  104  3  8  27  5   3   5  21  10  18   5\n",
      "2  1  2  1  110  1  8  15  5  20  20   9  25  13   5\n",
      "3  3  3  0   78  0  8  15  4   4  25  23  45  19  20\n",
      "4  4  3  0   64  0  8   1  5  12  15   8  15  20   0\n"
     ]
    }
   ],
   "source": [
    "print(pd.DataFrame(x_train).head())"
   ]
  },
  {
   "cell_type": "code",
   "execution_count": 111,
   "metadata": {},
   "outputs": [
    {
     "name": "stdout",
     "output_type": "stream",
     "text": [
      "   0  1  2   3  4  5   6  7   8   9  10  11  12  13\n",
      "0  1  3  0  20  0  4  12  5   4   5  13  15   9  10\n",
      "1  4  2  1  52  0  2   3  3   9  50  18  50   9   0\n",
      "2  4  3  0  24  0  2   9  6   6   5  22  35  16  30\n",
      "3  3  0  2   8  4  4  15  6   2  50   6  50   4   0\n",
      "4  4  3  0  24  0  4  24  3  16   5  22  35   6  30\n"
     ]
    }
   ],
   "source": [
    "print(pd.DataFrame(x_test).head())"
   ]
  },
  {
   "cell_type": "code",
   "execution_count": 112,
   "metadata": {},
   "outputs": [],
   "source": [
    "from sklearn.preprocessing import StandardScaler\n",
    "sc_X = StandardScaler()"
   ]
  },
  {
   "cell_type": "code",
   "execution_count": 113,
   "metadata": {},
   "outputs": [
    {
     "name": "stdout",
     "output_type": "stream",
     "text": [
      "[ 8996 15400 10844 ...  9264  7155  4148]\n",
      "[[ 8996]\n",
      " [15400]\n",
      " [10844]\n",
      " ...\n",
      " [ 9264]\n",
      " [ 7155]\n",
      " [ 4148]]\n",
      "[[-0.03141707]\n",
      " [ 1.48193319]\n",
      " [ 0.40528988]\n",
      " ...\n",
      " [ 0.03191489]\n",
      " [-0.46646982]\n",
      " [-1.17706385]]\n",
      "[-0.03141707  1.48193319  0.40528988 ...  0.03191489 -0.46646982\n",
      " -1.17706385]\n"
     ]
    },
    {
     "name": "stderr",
     "output_type": "stream",
     "text": [
      "/anaconda3/envs/tensflo/lib/python3.6/site-packages/sklearn/utils/validation.py:595: DataConversionWarning: Data with input dtype object was converted to float64 by StandardScaler.\n",
      "  warnings.warn(msg, DataConversionWarning)\n",
      "/anaconda3/envs/tensflo/lib/python3.6/site-packages/sklearn/utils/validation.py:595: DataConversionWarning: Data with input dtype object was converted to float64 by StandardScaler.\n",
      "  warnings.warn(msg, DataConversionWarning)\n",
      "/anaconda3/envs/tensflo/lib/python3.6/site-packages/sklearn/utils/validation.py:595: DataConversionWarning: Data with input dtype object was converted to float64 by StandardScaler.\n",
      "  warnings.warn(msg, DataConversionWarning)\n",
      "/anaconda3/envs/tensflo/lib/python3.6/site-packages/sklearn/utils/validation.py:595: DataConversionWarning: Data with input dtype object was converted to float64 by StandardScaler.\n",
      "  warnings.warn(msg, DataConversionWarning)\n",
      "/anaconda3/envs/tensflo/lib/python3.6/site-packages/sklearn/utils/validation.py:595: DataConversionWarning: Data with input dtype int64 was converted to float64 by StandardScaler.\n",
      "  warnings.warn(msg, DataConversionWarning)\n",
      "/anaconda3/envs/tensflo/lib/python3.6/site-packages/sklearn/utils/validation.py:595: DataConversionWarning: Data with input dtype int64 was converted to float64 by StandardScaler.\n",
      "  warnings.warn(msg, DataConversionWarning)\n",
      "/anaconda3/envs/tensflo/lib/python3.6/site-packages/sklearn/utils/validation.py:595: DataConversionWarning: Data with input dtype int64 was converted to float64 by StandardScaler.\n",
      "  warnings.warn(msg, DataConversionWarning)\n",
      "/anaconda3/envs/tensflo/lib/python3.6/site-packages/sklearn/utils/validation.py:595: DataConversionWarning: Data with input dtype int64 was converted to float64 by StandardScaler.\n",
      "  warnings.warn(msg, DataConversionWarning)\n"
     ]
    }
   ],
   "source": [
    "x_train = sc_X.fit_transform(x_train)\n",
    "x_test = sc_X.fit_transform(x_test)\n",
    "\n",
    "y_train = y_train.reshape(len(y_train), 1)\n",
    "y_train = sc_X.fit_transform(y_train)\n",
    "y_train = y_train.ravel()\n",
    "\n",
    "print(y_test)\n",
    "y_test = y_test.reshape(len(y_test), 1)\n",
    "print(y_test)\n",
    "y_test = sc_X.fit_transform(y_test)\n",
    "print(y_test)\n",
    "y_test = y_test.ravel()\n",
    "print(y_test)"
   ]
  },
  {
   "cell_type": "code",
   "execution_count": 114,
   "metadata": {},
   "outputs": [
    {
     "name": "stdout",
     "output_type": "stream",
     "text": [
      "          0         1         2         3         4         5         6  \\\n",
      "0 -1.254422  0.891168 -0.974999  0.091413 -0.101705  0.497978  1.244750   \n",
      "1 -1.254422  0.044814 -0.297441  0.855691  1.378519  0.497978  1.598562   \n",
      "2 -1.254422  0.044814 -0.297441  1.019465 -0.101705  0.497978  0.183316   \n",
      "3 -0.404256  0.891168 -0.974999  0.146004 -0.841817  0.497978  0.183316   \n",
      "4  0.020827  0.891168 -0.974999 -0.236134 -0.841817  0.497978 -1.467804   \n",
      "\n",
      "          7         8         9        10        11        12        13  \n",
      "0 -1.473650  3.619048 -0.493306  1.414422 -0.588279 -1.300763  1.634408  \n",
      "1  0.247742 -0.850365 -1.376880  1.122554 -0.890481  0.957636 -1.032547  \n",
      "2  0.247742  1.149110 -0.493306 -0.628657  0.016127  0.089021 -1.032547  \n",
      "3 -0.612954 -0.732749 -0.198781  1.414422  1.224939  1.131359 -0.232460  \n",
      "4  0.247742  0.208180 -0.787831 -0.774592 -0.588279  1.305082 -1.299242  \n"
     ]
    }
   ],
   "source": [
    "print(pd.DataFrame(x_train).head())"
   ]
  },
  {
   "cell_type": "code",
   "execution_count": 115,
   "metadata": {},
   "outputs": [
    {
     "name": "stdout",
     "output_type": "stream",
     "text": [
      "          0         1         2         3         4         5         6  \\\n",
      "0 -1.598036  0.880640 -0.963246 -0.789211 -0.777608  0.529131 -0.245908   \n",
      "1  0.199544  0.000823 -0.280414  0.754375 -0.777608 -1.935534 -1.310182   \n",
      "2  0.199544  0.880640 -0.963246 -0.596262 -0.777608 -1.935534 -0.600666   \n",
      "3 -0.399649 -1.758810  0.402417 -1.368055  1.467532  0.529131  0.108850   \n",
      "4  0.199544  0.880640 -0.963246 -0.596262 -0.777608  0.529131  1.173124   \n",
      "\n",
      "          7         8         9        10        11        12        13  \n",
      "0  0.272874 -0.757258 -1.374826 -0.104422 -0.576520 -0.620245 -0.785463  \n",
      "1 -1.413265 -0.163689  1.327360  0.619491  1.591369 -0.620245 -1.313718  \n",
      "2  1.115943 -0.519831 -1.374826  1.198622  0.662274  0.612503  0.271045  \n",
      "3  1.115943 -0.994685  1.327360 -1.117902  1.591369 -1.500779 -1.313718  \n",
      "4 -1.413265  0.667307 -1.374826  1.198622  0.662274 -1.148566  0.271045  \n"
     ]
    }
   ],
   "source": [
    "print(pd.DataFrame(x_test).head())"
   ]
  },
  {
   "cell_type": "code",
   "execution_count": 116,
   "metadata": {},
   "outputs": [
    {
     "data": {
      "text/plain": [
       "SVR(C=1.0, cache_size=200, coef0=0.0, degree=3, epsilon=0.1,\n",
       "  gamma='auto_deprecated', kernel='rbf', max_iter=-1, shrinking=True,\n",
       "  tol=0.001, verbose=False)"
      ]
     },
     "execution_count": 116,
     "metadata": {},
     "output_type": "execute_result"
    }
   ],
   "source": [
    "from sklearn.svm import SVR\n",
    "svr = SVR(kernel = \"rbf\")\n",
    "svr.fit(x_train, y_train)"
   ]
  },
  {
   "cell_type": "code",
   "execution_count": null,
   "metadata": {},
   "outputs": [],
   "source": []
  },
  {
   "cell_type": "code",
   "execution_count": 117,
   "metadata": {},
   "outputs": [
    {
     "name": "stdout",
     "output_type": "stream",
     "text": [
      "[-0.21448654  0.78390516  0.68102838 ...  0.06362514 -0.06773593\n",
      " -0.89125182]\n"
     ]
    }
   ],
   "source": [
    "y_pred = svr.predict(x_test)\n",
    "print(y_pred)\n"
   ]
  },
  {
   "cell_type": "code",
   "execution_count": 118,
   "metadata": {},
   "outputs": [],
   "source": [
    "from sklearn.metrics import r2_score"
   ]
  },
  {
   "cell_type": "code",
   "execution_count": 119,
   "metadata": {},
   "outputs": [
    {
     "name": "stdout",
     "output_type": "stream",
     "text": [
      "74.41653877372781 %\n"
     ]
    }
   ],
   "source": [
    "print(r2_score(y_test, y_pred)*100,\"%\")"
   ]
  },
  {
   "cell_type": "code",
   "execution_count": 120,
   "metadata": {},
   "outputs": [
    {
     "data": {
      "text/plain": [
       "array([[ 8221.31028119],\n",
       "       [12446.17523496],\n",
       "       [12010.834571  ],\n",
       "       ...,\n",
       "       [ 9398.18730983],\n",
       "       [ 8842.31053678],\n",
       "       [ 5357.46241992]])"
      ]
     },
     "execution_count": 120,
     "metadata": {},
     "output_type": "execute_result"
    }
   ],
   "source": [
    "Y_pred = y_pred\n",
    "Y_pred\n",
    "Y_pred = sc_X.inverse_transform(Y_pred.reshape(len(Y_pred), 1))\n",
    "Y_pred"
   ]
  },
  {
   "cell_type": "code",
   "execution_count": 123,
   "metadata": {},
   "outputs": [
    {
     "data": {
      "text/plain": [
       "<function matplotlib.pyplot.show(*args, **kw)>"
      ]
     },
     "execution_count": 123,
     "metadata": {},
     "output_type": "execute_result"
    },
    {
     "data": {
      "image/png": "[encoded data removed]",
      "text/plain": [
       "<Figure size 432x288 with 1 Axes>"
      ]
     },
     "metadata": {
      "needs_background": "light"
     },
     "output_type": "display_data"
    }
   ],
   "source": [
    "import matplotlib.pyplot as plt\n",
    "\n",
    "base = range(1, len(y_pred)+1)\n",
    "plt.scatter(base[:100],y_pred[:100], color='blue')\n",
    "plt.scatter(base[:100],y_test[:100], color='red')\n",
    "plt.show"
   ]
  },
  {
   "cell_type": "code",
   "execution_count": 126,
   "metadata": {},
   "outputs": [
    {
     "data": {
      "text/plain": [
       "(array([ 3.,  1.,  6.,  9., 13., 19., 44., 54., 46., 54., 27., 17., 23.,\n",
       "        35., 17., 27., 22., 29., 34., 29., 28., 33., 35., 50., 63., 49.,\n",
       "        31., 34., 25., 34., 14., 24., 21., 28., 16., 18., 14., 12.,  9.,\n",
       "         5.,  5.,  2.,  2.,  1.,  0.,  0.,  2.,  2.,  2.,  1.]),\n",
       " array([-1.74896132e+00, -1.66164205e+00, -1.57432278e+00, -1.48700351e+00,\n",
       "        -1.39968424e+00, -1.31236497e+00, -1.22504570e+00, -1.13772644e+00,\n",
       "        -1.05040717e+00, -9.63087899e-01, -8.75768630e-01, -7.88449361e-01,\n",
       "        -7.01130093e-01, -6.13810824e-01, -5.26491556e-01, -4.39172287e-01,\n",
       "        -3.51853018e-01, -2.64533750e-01, -1.77214481e-01, -8.98952124e-02,\n",
       "        -2.57594374e-03,  8.47433249e-02,  1.72062594e-01,  2.59381862e-01,\n",
       "         3.46701131e-01,  4.34020399e-01,  5.21339668e-01,  6.08658937e-01,\n",
       "         6.95978205e-01,  7.83297474e-01,  8.70616743e-01,  9.57936011e-01,\n",
       "         1.04525528e+00,  1.13257455e+00,  1.21989382e+00,  1.30721309e+00,\n",
       "         1.39453235e+00,  1.48185162e+00,  1.56917089e+00,  1.65649016e+00,\n",
       "         1.74380943e+00,  1.83112870e+00,  1.91844797e+00,  2.00576723e+00,\n",
       "         2.09308650e+00,  2.18040577e+00,  2.26772504e+00,  2.35504431e+00,\n",
       "         2.44236358e+00,  2.52968285e+00,  2.61700212e+00]),\n",
       " <a list of 50 Patch objects>)"
      ]
     },
     "execution_count": 126,
     "metadata": {},
     "output_type": "execute_result"
    },
    {
     "data": {
      "image/png": "[encoded data removed]",
      "text/plain": [
       "<Figure size 432x288 with 1 Axes>"
      ]
     },
     "metadata": {
      "needs_background": "light"
     },
     "output_type": "display_data"
    }
   ],
   "source": [
    "plt.hist(y_pred, bins=50)"
   ]
  },
  {
   "cell_type": "code",
   "execution_count": 127,
   "metadata": {},
   "outputs": [
    {
     "data": {
      "text/plain": [
       "(array([17., 10.,  7., 30., 89., 50., 56., 32., 45., 37., 66., 36., 38.,\n",
       "        29., 30., 38., 54., 51., 31., 28., 37., 24., 47., 41., 28., 35.,\n",
       "        28.,  3., 17., 11.,  8.,  1.,  1.,  1.,  1.,  0.,  0.,  1.,  2.,\n",
       "         0.,  2.,  0.,  1.,  1.,  0.,  0.,  0.,  2.,  0.,  3.]),\n",
       " array([-1.74161628, -1.6213281 , -1.50103991, -1.38075172, -1.26046354,\n",
       "        -1.14017535, -1.01988716, -0.89959898, -0.77931079, -0.6590226 ,\n",
       "        -0.53873442, -0.41844623, -0.29815805, -0.17786986, -0.05758167,\n",
       "         0.06270651,  0.1829947 ,  0.30328289,  0.42357107,  0.54385926,\n",
       "         0.66414745,  0.78443563,  0.90472382,  1.02501201,  1.14530019,\n",
       "         1.26558838,  1.38587657,  1.50616475,  1.62645294,  1.74674112,\n",
       "         1.86702931,  1.9873175 ,  2.10760568,  2.22789387,  2.34818206,\n",
       "         2.46847024,  2.58875843,  2.70904662,  2.8293348 ,  2.94962299,\n",
       "         3.06991118,  3.19019936,  3.31048755,  3.43077574,  3.55106392,\n",
       "         3.67135211,  3.79164029,  3.91192848,  4.03221667,  4.15250485,\n",
       "         4.27279304]),\n",
       " <a list of 50 Patch objects>)"
      ]
     },
     "execution_count": 127,
     "metadata": {},
     "output_type": "execute_result"
    },
    {
     "data": {
      "image/png": "[encoded data removed]",
      "text/plain": [
       "<Figure size 432x288 with 1 Axes>"
      ]
     },
     "metadata": {
      "needs_background": "light"
     },
     "output_type": "display_data"
    }
   ],
   "source": [
    "plt.hist(y_test, bins=50)"
   ]
  },
  {
   "cell_type": "code",
   "execution_count": null,
   "metadata": {},
   "outputs": [],
   "source": []
  }
 ],
 "metadata": {
  "kernelspec": {
   "display_name": "Python 3",
   "language": "python",
   "name": "python3"
  },
  "language_info": {
   "codemirror_mode": {
    "name": "ipython",
    "version": 3
   },
   "file_extension": ".py",
   "mimetype": "text/x-python",
   "name": "python",
   "nbconvert_exporter": "python",
   "pygments_lexer": "ipython3",
   "version": "3.6.8"
  }
 },
 "nbformat": 4,
 "nbformat_minor": 2
}
